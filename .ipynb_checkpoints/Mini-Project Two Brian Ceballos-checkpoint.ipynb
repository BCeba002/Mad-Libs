{
 "cells": [
  {
   "cell_type": "markdown",
   "metadata": {},
   "source": [
    "# Brian Ceballos\n",
    "### IDH 3034 - Mini-Project Two\n",
    "# ................................................................................................................................."
   ]
  },
  {
   "cell_type": "markdown",
   "metadata": {},
   "source": [
    "# Input"
   ]
  },
  {
   "cell_type": "code",
   "execution_count": 1,
   "metadata": {},
   "outputs": [
    {
     "name": "stdin",
     "output_type": "stream",
     "text": [
      "Write an adjective:  young\n",
      "Write an adverb:  well\n",
      "Write a body part:  leg\n",
      "Write a color:  green\n",
      "Write a event:  Homecoming\n",
      "Write a food:  pizza\n",
      "Write a fruit:  kiwi\n",
      "Write a type of liquid:  pickle juice\n",
      "Write a material:  rubber\n",
      "Write a name:  Brian\n",
      "Write a noun:  notebook\n",
      "Write a plural noun:  notebooks\n",
      "Write a number:  24\n",
      "Write a vegetable:  carrot\n",
      "Write a verb:  supervise\n"
     ]
    }
   ],
   "source": [
    "Adjective = input(\"Write an adjective: \")\n",
    "Adverb = input(\"Write an adverb: \")\n",
    "Body_Part = input(\"Write a body part: \")\n",
    "Color = input(\"Write a color: \")\n",
    "Event = input(\"Write a event: \")\n",
    "Food = input(\"Write a food: \")\n",
    "Fruit = input(\"Write a fruit: \")\n",
    "Liquid = input(\"Write a type of liquid: \")\n",
    "Material = input(\"Write a material: \")\n",
    "Name = input(\"Write a name: \")\n",
    "Noun = input(\"Write a noun: \")\n",
    "Noun_Plural = input(\"Write a plural noun: \")\n",
    "Number = input(\"Write a number: \")\n",
    "Vegetable = input(\"Write a vegetable: \")\n",
    "Verb = input(\"Write a verb: \")"
   ]
  },
  {
   "cell_type": "markdown",
   "metadata": {},
   "source": [
    "# Mad Libs"
   ]
  },
  {
   "cell_type": "code",
   "execution_count": 2,
   "metadata": {},
   "outputs": [
    {
     "name": "stdout",
     "output_type": "stream",
     "text": [
      "Please excuse Brian who is far too young to attend notebook class.\n"
     ]
    }
   ],
   "source": [
    "print(f\"Please excuse {Name} who is far too {Adjective} to attend {Noun} class.\")"
   ]
  },
  {
   "cell_type": "code",
   "execution_count": 3,
   "metadata": {},
   "outputs": [
    {
     "name": "stdout",
     "output_type": "stream",
     "text": [
      "Brian is sick with leg flu. Drink more pickle juice and take rubber as needed.\n"
     ]
    }
   ],
   "source": [
    "print(f\"{Name} is sick with {Body_Part} flu. Drink more {Liquid} and take {Material} as needed.\")"
   ]
  },
  {
   "cell_type": "code",
   "execution_count": 4,
   "metadata": {},
   "outputs": [
    {
     "name": "stdout",
     "output_type": "stream",
     "text": [
      "Brian is authorized to be at Homecoming instead of notebook class.\n"
     ]
    }
   ],
   "source": [
    "print(f\"{Name} is authorized to be at {Event} instead of {Noun} class.\")"
   ]
  },
  {
   "cell_type": "code",
   "execution_count": 5,
   "metadata": {},
   "outputs": [
    {
     "name": "stdout",
     "output_type": "stream",
     "text": [
      "Brian is too cool for notebook class. Instead she/he will be attending Homecoming.\n"
     ]
    }
   ],
   "source": [
    "print(f\"{Name} is too cool for {Noun} class. Instead she/he will be attending {Event}.\")"
   ]
  },
  {
   "cell_type": "code",
   "execution_count": 6,
   "metadata": {},
   "outputs": [
    {
     "name": "stdout",
     "output_type": "stream",
     "text": [
      "Lunchtime in our cafeteria is always young. They serve hot pizza, but some students supervise their own notebook to eat.\n"
     ]
    }
   ],
   "source": [
    "print(f\"Lunchtime in our cafeteria is always {Adjective}. They serve hot {Food}, but some students {Verb} their own {Noun} to eat.\")"
   ]
  },
  {
   "cell_type": "code",
   "execution_count": 7,
   "metadata": {},
   "outputs": [
    {
     "name": "stdout",
     "output_type": "stream",
     "text": [
      "Here are some things to do at recess.\n",
      "1. Start a game of touch leg-ball. \n",
      "2. Put a notebook in someone's lunch bag.\n",
      "3. Start a carrot fight in the school's young room.\n"
     ]
    }
   ],
   "source": [
    "print(f\"\"\"Here are some things to do at recess.\n",
    "1. Start a game of touch {Body_Part}-ball. \n",
    "2. Put a {Noun} in someone's lunch bag.\n",
    "3. Start a {Vegetable} fight in the school's {Adjective} room.\"\"\")"
   ]
  },
  {
   "cell_type": "code",
   "execution_count": 8,
   "metadata": {},
   "outputs": [
    {
     "name": "stdout",
     "output_type": "stream",
     "text": [
      "In order to wash your face well, you must wet your notebook in warm pickle juice.\n"
     ]
    }
   ],
   "source": [
    "print(f\"In order to wash your face {Adverb}, you must wet your {Noun} in warm {Liquid}.\")"
   ]
  },
  {
   "cell_type": "code",
   "execution_count": 9,
   "metadata": {},
   "outputs": [
    {
     "name": "stdout",
     "output_type": "stream",
     "text": [
      "I like using my imagination to write stories about notebooks. I can write about people who are 24 feet tall, with green hair who can supervise.\n"
     ]
    }
   ],
   "source": [
    "print(f\"I like using my imagination to write stories about {Noun_Plural}. I can write about people who are {Number} feet tall, with {Color} hair who can {Verb}.\")"
   ]
  },
  {
   "cell_type": "code",
   "execution_count": 10,
   "metadata": {},
   "outputs": [
    {
     "name": "stdout",
     "output_type": "stream",
     "text": [
      "Come supervise at Walmart, where you'll receive young discounts on all of your favorite brand name notebooks.\n"
     ]
    }
   ],
   "source": [
    "print(f\"Come {Verb} at Walmart, where you'll receive {Adjective} discounts on all of your favorite brand name {Noun_Plural}.\")"
   ]
  },
  {
   "cell_type": "code",
   "execution_count": 11,
   "metadata": {},
   "outputs": [
    {
     "name": "stdout",
     "output_type": "stream",
     "text": [
      "I love red, young apples! Today we are going to supervise apples. I am going to supervise the most. Brian and I are having a kiwi picking contest this year.\n"
     ]
    }
   ],
   "source": [
    "print(f\"I love red, {Adjective} apples! Today we are going to {Verb} apples. I am going to {Verb} the most. {Name} and I are having a {Fruit} picking contest this year.\")"
   ]
  },
  {
   "cell_type": "code",
   "execution_count": null,
   "metadata": {},
   "outputs": [],
   "source": []
  }
 ],
 "metadata": {
  "kernelspec": {
   "display_name": "Python 3",
   "language": "python",
   "name": "python3"
  },
  "language_info": {
   "codemirror_mode": {
    "name": "ipython",
    "version": 3
   },
   "file_extension": ".py",
   "mimetype": "text/x-python",
   "name": "python",
   "nbconvert_exporter": "python",
   "pygments_lexer": "ipython3",
   "version": "3.6.5"
  }
 },
 "nbformat": 4,
 "nbformat_minor": 2
}
