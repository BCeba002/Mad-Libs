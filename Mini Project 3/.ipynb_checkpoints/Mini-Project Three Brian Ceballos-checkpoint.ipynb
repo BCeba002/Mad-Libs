{
 "cells": [
  {
   "cell_type": "markdown",
   "metadata": {},
   "source": [
    "# Brian Ceballos\n",
    "### IDH 3034 - Mini-Project Three\n",
    "# ................................................................................................................................."
   ]
  },
  {
   "cell_type": "markdown",
   "metadata": {},
   "source": [
    "# Input"
   ]
  },
  {
   "cell_type": "code",
   "execution_count": 1,
   "metadata": {},
   "outputs": [
    {
     "name": "stdin",
     "output_type": "stream",
     "text": [
      "Write a(n) Adjective: young\n",
      "Write a(n) Adverb: well\n",
      "Write a(n) Body Part: leg\n",
      "Write a(n) Color: green\n",
      "Write a(n) Event: Homecoming\n",
      "Write a(n) Food: pizza\n",
      "Write a(n) Fruit: kiwi\n",
      "Write a(n) Liquid: pickle juice\n",
      "Write a(n) Material: rubber\n",
      "Write a(n) Name: Brian\n",
      "Write a(n) Noun: notebook\n",
      "Write a(n) Number: 24\n",
      "Write a(n) Plural Noun: notebooks\n",
      "Write a(n) Vegetable: carrot\n",
      "Write a(n) Verb: supervise\n"
     ]
    }
   ],
   "source": [
    "Words_Needed = [\"Adjective\", \"Adverb\", \"Body Part\", \"Color\", \"Event\", \"Food\", \"Fruit\", \"Liquid\", \"Material\", \"Name\", \"Noun\", \"Number\", \"Plural Noun\", \"Vegetable\", \"Verb\"]\n",
    "Dictonary = {}\n",
    "\n",
    "for Word in Words_Needed:\n",
    "    Temp_Word = input(f\"Write a(n) {Word}:\")\n",
    "    Dictonary[Word] = Temp_Word"
   ]
  },
  {
   "cell_type": "markdown",
   "metadata": {},
   "source": [
    "# Mad Libs"
   ]
  },
  {
   "cell_type": "code",
   "execution_count": 2,
   "metadata": {},
   "outputs": [
    {
     "name": "stdout",
     "output_type": "stream",
     "text": [
      "Please excuse Brian who is far too young to attend notebook class.\n"
     ]
    }
   ],
   "source": [
    "print(f\"Please excuse {Dictonary['Name']} who is far too {Dictonary['Adjective']} to attend {Dictonary['Noun']} class.\")"
   ]
  },
  {
   "cell_type": "code",
   "execution_count": 3,
   "metadata": {},
   "outputs": [
    {
     "name": "stdout",
     "output_type": "stream",
     "text": [
      "Brian is sick with leg flu. Drink more pickle juice and take rubber as needed.\n"
     ]
    }
   ],
   "source": [
    "print(f\"{Dictonary['Name']} is sick with {Dictonary['Body Part']} flu. Drink more {Dictonary['Liquid']} and take {Dictonary['Material']} as needed.\")"
   ]
  },
  {
   "cell_type": "code",
   "execution_count": 4,
   "metadata": {},
   "outputs": [
    {
     "name": "stdout",
     "output_type": "stream",
     "text": [
      "Brian is authorized to be at Homecoming instead of notebook class.\n"
     ]
    }
   ],
   "source": [
    "print(f\"{Dictonary['Name']} is authorized to be at {Dictonary['Event']} instead of {Dictonary['Noun']} class.\")"
   ]
  },
  {
   "cell_type": "code",
   "execution_count": 5,
   "metadata": {},
   "outputs": [
    {
     "name": "stdout",
     "output_type": "stream",
     "text": [
      "Brian is too cool for notebook class. Instead she/he will be attending Homecoming.\n"
     ]
    }
   ],
   "source": [
    "print(f\"{Dictonary['Name']} is too cool for {Dictonary['Noun']} class. Instead she/he will be attending {Dictonary['Event']}.\")"
   ]
  },
  {
   "cell_type": "code",
   "execution_count": 6,
   "metadata": {},
   "outputs": [
    {
     "name": "stdout",
     "output_type": "stream",
     "text": [
      "Lunchtime in our cafeteria is always young. They serve hot pizza, but some students supervise their own notebook to eat.\n"
     ]
    }
   ],
   "source": [
    "print(f\"Lunchtime in our cafeteria is always {Dictonary['Adjective']}. They serve hot {Dictonary['Food']}, but some students {Dictonary['Verb']} their own {Dictonary['Noun']} to eat.\")"
   ]
  },
  {
   "cell_type": "code",
   "execution_count": 7,
   "metadata": {},
   "outputs": [
    {
     "name": "stdout",
     "output_type": "stream",
     "text": [
      "Here are some things to do at recess.\n",
      "1. Start a game of touch leg-ball. \n",
      "2. Put a notebook in someone's lunch bag.\n",
      "3. Start a carrot fight in the school's young room.\n"
     ]
    }
   ],
   "source": [
    "print(f\"\"\"Here are some things to do at recess.\n",
    "1. Start a game of touch {Dictonary['Body Part']}-ball. \n",
    "2. Put a {Dictonary['Noun']} in someone's lunch bag.\n",
    "3. Start a {Dictonary['Vegetable']} fight in the school's {Dictonary['Adjective']} room.\"\"\")"
   ]
  },
  {
   "cell_type": "code",
   "execution_count": 8,
   "metadata": {},
   "outputs": [
    {
     "name": "stdout",
     "output_type": "stream",
     "text": [
      "In order to wash your face well, you must wet your notebook in warm pickle juice.\n"
     ]
    }
   ],
   "source": [
    "print(f\"In order to wash your face {Dictonary['Adverb']}, you must wet your {Dictonary['Noun']} in warm {Dictonary['Liquid']}.\")"
   ]
  },
  {
   "cell_type": "code",
   "execution_count": 9,
   "metadata": {},
   "outputs": [
    {
     "name": "stdout",
     "output_type": "stream",
     "text": [
      "I like using my imagination to write stories about notebooks. I can write about people who are 24 feet tall, with green hair who can supervise.\n"
     ]
    }
   ],
   "source": [
    "print(f\"I like using my imagination to write stories about {Dictonary['Plural Noun']}. I can write about people who are {Dictonary['Number']} feet tall, with {Dictonary['Color']} hair who can {Dictonary['Verb']}.\")"
   ]
  },
  {
   "cell_type": "code",
   "execution_count": 10,
   "metadata": {},
   "outputs": [
    {
     "name": "stdout",
     "output_type": "stream",
     "text": [
      "Come supervise at Walmart, where you'll receive young discounts on all of your favorite brand name notebooks.\n"
     ]
    }
   ],
   "source": [
    "print(f\"Come {Dictonary['Verb']} at Walmart, where you'll receive {Dictonary['Adjective']} discounts on all of your favorite brand name {Dictonary['Plural Noun']}.\")"
   ]
  },
  {
   "cell_type": "code",
   "execution_count": 11,
   "metadata": {},
   "outputs": [
    {
     "name": "stdout",
     "output_type": "stream",
     "text": [
      "I love red, young apples! Today we are going to supervise apples. I am going to supervise the most. Brian and I are having a kiwi picking contest this year.\n"
     ]
    }
   ],
   "source": [
    "print(f\"I love red, {Dictonary['Adjective']} apples! Today we are going to {Dictonary['Verb']} apples. I am going to {Dictonary['Verb']} the most. {Dictonary['Name']} and I are having a {Dictonary['Fruit']} picking contest this year.\")"
   ]
  },
  {
   "cell_type": "code",
   "execution_count": null,
   "metadata": {},
   "outputs": [],
   "source": []
  }
 ],
 "metadata": {
  "kernelspec": {
   "display_name": "Python 3",
   "language": "python",
   "name": "python3"
  },
  "language_info": {
   "codemirror_mode": {
    "name": "ipython",
    "version": 3
   },
   "file_extension": ".py",
   "mimetype": "text/x-python",
   "name": "python",
   "nbconvert_exporter": "python",
   "pygments_lexer": "ipython3",
   "version": "3.6.5"
  }
 },
 "nbformat": 4,
 "nbformat_minor": 2
}
